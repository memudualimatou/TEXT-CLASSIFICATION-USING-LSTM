{
  "nbformat": 4,
  "nbformat_minor": 0,
  "metadata": {
    "colab": {
      "name": "NLPzindi.ipynb",
      "provenance": [],
      "collapsed_sections": []
    },
    "kernelspec": {
      "display_name": "Python 3",
      "language": "python",
      "name": "python3"
    },
    "language_info": {
      "codemirror_mode": {
        "name": "ipython",
        "version": 3
      },
      "file_extension": ".py",
      "mimetype": "text/x-python",
      "name": "python",
      "nbconvert_exporter": "python",
      "pygments_lexer": "ipython3",
      "version": "3.7.4"
    }
  },
  "cells": [
    {
      "cell_type": "code",
      "metadata": {
        "colab_type": "code",
        "id": "ofpJfMcCgUH5",
        "colab": {
          "base_uri": "https://localhost:8080/",
          "height": 87
        },
        "outputId": "a2e5117a-fff7-466f-ecb5-40e3f9900d50"
      },
      "source": [
        "import nltk\n",
        "from nltk.corpus import stopwords\n",
        "import numpy as np\n",
        "import pandas as pd\n",
        "import re\n",
        "import string\n",
        "import keras.backend as K\n",
        "from nltk.tokenize import word_tokenize\n",
        "from sklearn import feature_extraction\n",
        "from tensorflow.keras.preprocessing.text import Tokenizer\n",
        "from tensorflow.keras.preprocessing.sequence import pad_sequences\n",
        "from tqdm import tqdm\n",
        "import tensorflow.keras.regularizers as regularizers\n",
        "from tensorflow.keras.models import Sequential\n",
        "from tensorflow.keras.layers import Embedding,LSTM,Dense,SpatialDropout1D\n",
        "from tensorflow.keras.initializers import Constant\n",
        "from sklearn.model_selection import train_test_split\n",
        "from tensorflow.keras.optimizers import Adam\n",
        "nltk.download('stopwords')\n",
        "nltk.download('punkt')\n",
        "stop=set(stopwords.words('english'))"
      ],
      "execution_count": 24,
      "outputs": [
        {
          "output_type": "stream",
          "text": [
            "[nltk_data] Downloading package stopwords to /root/nltk_data...\n",
            "[nltk_data]   Package stopwords is already up-to-date!\n",
            "[nltk_data] Downloading package punkt to /root/nltk_data...\n",
            "[nltk_data]   Package punkt is already up-to-date!\n"
          ],
          "name": "stdout"
        }
      ]
    },
    {
      "cell_type": "code",
      "metadata": {
        "colab_type": "code",
        "id": "iLdt4BgagUIK",
        "colab": {}
      },
      "source": [
        "data=pd.read_csv('/content/sample_data/TrainBSNLP.csv')"
      ],
      "execution_count": 25,
      "outputs": []
    },
    {
      "cell_type": "code",
      "metadata": {
        "colab_type": "code",
        "id": "hq5R66PvgUIY",
        "colab": {
          "base_uri": "https://localhost:8080/",
          "height": 197
        },
        "outputId": "4493f3ff-344b-42f8-cbef-40d21011c81b"
      },
      "source": [
        "data.head()"
      ],
      "execution_count": 26,
      "outputs": [
        {
          "output_type": "execute_result",
          "data": {
            "text/html": [
              "<div>\n",
              "<style scoped>\n",
              "    .dataframe tbody tr th:only-of-type {\n",
              "        vertical-align: middle;\n",
              "    }\n",
              "\n",
              "    .dataframe tbody tr th {\n",
              "        vertical-align: top;\n",
              "    }\n",
              "\n",
              "    .dataframe thead th {\n",
              "        text-align: right;\n",
              "    }\n",
              "</style>\n",
              "<table border=\"1\" class=\"dataframe\">\n",
              "  <thead>\n",
              "    <tr style=\"text-align: right;\">\n",
              "      <th></th>\n",
              "      <th>ID</th>\n",
              "      <th>text</th>\n",
              "      <th>label</th>\n",
              "    </tr>\n",
              "  </thead>\n",
              "  <tbody>\n",
              "    <tr>\n",
              "      <th>0</th>\n",
              "      <td>SUAVK39Z</td>\n",
              "      <td>I feel that it was better I dieAm happy</td>\n",
              "      <td>Depression</td>\n",
              "    </tr>\n",
              "    <tr>\n",
              "      <th>1</th>\n",
              "      <td>9JDAGUV3</td>\n",
              "      <td>Why do I get hallucinations?</td>\n",
              "      <td>Drugs</td>\n",
              "    </tr>\n",
              "    <tr>\n",
              "      <th>2</th>\n",
              "      <td>419WR1LQ</td>\n",
              "      <td>I am stresseed due to lack of financial suppor...</td>\n",
              "      <td>Depression</td>\n",
              "    </tr>\n",
              "    <tr>\n",
              "      <th>3</th>\n",
              "      <td>6UY7DX6Q</td>\n",
              "      <td>Why is life important?</td>\n",
              "      <td>Suicide</td>\n",
              "    </tr>\n",
              "    <tr>\n",
              "      <th>4</th>\n",
              "      <td>FYC0FTFB</td>\n",
              "      <td>How could I be helped to go through the depres...</td>\n",
              "      <td>Depression</td>\n",
              "    </tr>\n",
              "  </tbody>\n",
              "</table>\n",
              "</div>"
            ],
            "text/plain": [
              "         ID                                               text       label\n",
              "0  SUAVK39Z            I feel that it was better I dieAm happy  Depression\n",
              "1  9JDAGUV3                       Why do I get hallucinations?       Drugs\n",
              "2  419WR1LQ  I am stresseed due to lack of financial suppor...  Depression\n",
              "3  6UY7DX6Q                             Why is life important?     Suicide\n",
              "4  FYC0FTFB  How could I be helped to go through the depres...  Depression"
            ]
          },
          "metadata": {
            "tags": []
          },
          "execution_count": 26
        }
      ]
    },
    {
      "cell_type": "code",
      "metadata": {
        "colab_type": "code",
        "id": "HECfmpYngUIm",
        "colab": {
          "base_uri": "https://localhost:8080/",
          "height": 194
        },
        "outputId": "1747009f-e55c-457d-8670-cd927943147e"
      },
      "source": [
        "data.info()"
      ],
      "execution_count": 27,
      "outputs": [
        {
          "output_type": "stream",
          "text": [
            "<class 'pandas.core.frame.DataFrame'>\n",
            "RangeIndex: 616 entries, 0 to 615\n",
            "Data columns (total 3 columns):\n",
            " #   Column  Non-Null Count  Dtype \n",
            "---  ------  --------------  ----- \n",
            " 0   ID      616 non-null    object\n",
            " 1   text    616 non-null    object\n",
            " 2   label   616 non-null    object\n",
            "dtypes: object(3)\n",
            "memory usage: 14.6+ KB\n"
          ],
          "name": "stdout"
        }
      ]
    },
    {
      "cell_type": "code",
      "metadata": {
        "colab_type": "code",
        "id": "2v9B1lfmgUIt",
        "colab": {}
      },
      "source": [
        ""
      ],
      "execution_count": 27,
      "outputs": []
    },
    {
      "cell_type": "code",
      "metadata": {
        "colab_type": "code",
        "id": "mRSVi1xMgUIy",
        "colab": {
          "base_uri": "https://localhost:8080/",
          "height": 347
        },
        "outputId": "3cdbc502-b8ee-461e-8d02-0483b813df0e"
      },
      "source": [
        "data.head(10)"
      ],
      "execution_count": 28,
      "outputs": [
        {
          "output_type": "execute_result",
          "data": {
            "text/html": [
              "<div>\n",
              "<style scoped>\n",
              "    .dataframe tbody tr th:only-of-type {\n",
              "        vertical-align: middle;\n",
              "    }\n",
              "\n",
              "    .dataframe tbody tr th {\n",
              "        vertical-align: top;\n",
              "    }\n",
              "\n",
              "    .dataframe thead th {\n",
              "        text-align: right;\n",
              "    }\n",
              "</style>\n",
              "<table border=\"1\" class=\"dataframe\">\n",
              "  <thead>\n",
              "    <tr style=\"text-align: right;\">\n",
              "      <th></th>\n",
              "      <th>ID</th>\n",
              "      <th>text</th>\n",
              "      <th>label</th>\n",
              "    </tr>\n",
              "  </thead>\n",
              "  <tbody>\n",
              "    <tr>\n",
              "      <th>0</th>\n",
              "      <td>SUAVK39Z</td>\n",
              "      <td>I feel that it was better I dieAm happy</td>\n",
              "      <td>Depression</td>\n",
              "    </tr>\n",
              "    <tr>\n",
              "      <th>1</th>\n",
              "      <td>9JDAGUV3</td>\n",
              "      <td>Why do I get hallucinations?</td>\n",
              "      <td>Drugs</td>\n",
              "    </tr>\n",
              "    <tr>\n",
              "      <th>2</th>\n",
              "      <td>419WR1LQ</td>\n",
              "      <td>I am stresseed due to lack of financial suppor...</td>\n",
              "      <td>Depression</td>\n",
              "    </tr>\n",
              "    <tr>\n",
              "      <th>3</th>\n",
              "      <td>6UY7DX6Q</td>\n",
              "      <td>Why is life important?</td>\n",
              "      <td>Suicide</td>\n",
              "    </tr>\n",
              "    <tr>\n",
              "      <th>4</th>\n",
              "      <td>FYC0FTFB</td>\n",
              "      <td>How could I be helped to go through the depres...</td>\n",
              "      <td>Depression</td>\n",
              "    </tr>\n",
              "    <tr>\n",
              "      <th>5</th>\n",
              "      <td>V6VSDJ5I</td>\n",
              "      <td>What are the effects of depression to ones health</td>\n",
              "      <td>Depression</td>\n",
              "    </tr>\n",
              "    <tr>\n",
              "      <th>6</th>\n",
              "      <td>9736J4UE</td>\n",
              "      <td>Why is everything so hard to deal with in this...</td>\n",
              "      <td>Depression</td>\n",
              "    </tr>\n",
              "    <tr>\n",
              "      <th>7</th>\n",
              "      <td>AY8L479Y</td>\n",
              "      <td>I feel emotionally overwhelmed</td>\n",
              "      <td>Depression</td>\n",
              "    </tr>\n",
              "    <tr>\n",
              "      <th>8</th>\n",
              "      <td>OSFJV5EC</td>\n",
              "      <td>How to manage taking alcohol?</td>\n",
              "      <td>Alcohol</td>\n",
              "    </tr>\n",
              "    <tr>\n",
              "      <th>9</th>\n",
              "      <td>U4SGUGGM</td>\n",
              "      <td>Is heaven open for us who smoke bhang?</td>\n",
              "      <td>Drugs</td>\n",
              "    </tr>\n",
              "  </tbody>\n",
              "</table>\n",
              "</div>"
            ],
            "text/plain": [
              "         ID                                               text       label\n",
              "0  SUAVK39Z            I feel that it was better I dieAm happy  Depression\n",
              "1  9JDAGUV3                       Why do I get hallucinations?       Drugs\n",
              "2  419WR1LQ  I am stresseed due to lack of financial suppor...  Depression\n",
              "3  6UY7DX6Q                             Why is life important?     Suicide\n",
              "4  FYC0FTFB  How could I be helped to go through the depres...  Depression\n",
              "5  V6VSDJ5I  What are the effects of depression to ones health  Depression\n",
              "6  9736J4UE  Why is everything so hard to deal with in this...  Depression\n",
              "7  AY8L479Y                    I feel emotionally overwhelmed   Depression\n",
              "8  OSFJV5EC                      How to manage taking alcohol?     Alcohol\n",
              "9  U4SGUGGM             Is heaven open for us who smoke bhang?       Drugs"
            ]
          },
          "metadata": {
            "tags": []
          },
          "execution_count": 28
        }
      ]
    },
    {
      "cell_type": "code",
      "metadata": {
        "colab_type": "code",
        "id": "fAq6ks5AgUI2",
        "colab": {
          "base_uri": "https://localhost:8080/",
          "height": 194
        },
        "outputId": "df1af6ac-c2f0-4ad4-f9af-dc254f9d0356"
      },
      "source": [
        "data.info()"
      ],
      "execution_count": 29,
      "outputs": [
        {
          "output_type": "stream",
          "text": [
            "<class 'pandas.core.frame.DataFrame'>\n",
            "RangeIndex: 616 entries, 0 to 615\n",
            "Data columns (total 3 columns):\n",
            " #   Column  Non-Null Count  Dtype \n",
            "---  ------  --------------  ----- \n",
            " 0   ID      616 non-null    object\n",
            " 1   text    616 non-null    object\n",
            " 2   label   616 non-null    object\n",
            "dtypes: object(3)\n",
            "memory usage: 14.6+ KB\n"
          ],
          "name": "stdout"
        }
      ]
    },
    {
      "cell_type": "code",
      "metadata": {
        "colab_type": "code",
        "id": "391tYM4AgUI6",
        "colab": {}
      },
      "source": [
        "# data.dropna()"
      ],
      "execution_count": 30,
      "outputs": []
    },
    {
      "cell_type": "code",
      "metadata": {
        "colab_type": "code",
        "id": "AXFQ_iXTgUI-",
        "colab": {
          "base_uri": "https://localhost:8080/",
          "height": 278
        },
        "outputId": "391998df-25fb-48ba-aea7-6987e9497d96"
      },
      "source": [
        "# DATA VISUALIZATION\n",
        "import seaborn as sb\n",
        "import matplotlib.pyplot as plt\n",
        "sb.countplot(data['label'])\n",
        "plt.show()"
      ],
      "execution_count": 31,
      "outputs": [
        {
          "output_type": "display_data",
          "data": {
            "image/png": "[encoded data removed]",
            "text/plain": [
              "<Figure size 432x288 with 1 Axes>"
            ]
          },
          "metadata": {
            "tags": [],
            "needs_background": "light"
          }
        }
      ]
    },
    {
      "cell_type": "code",
      "metadata": {
        "colab_type": "code",
        "id": "ODGMKMnvgUJB",
        "colab": {}
      },
      "source": [
        "import re\n",
        "import nltk\n",
        "from nltk.corpus import stopwords\n",
        "from nltk.stem.porter import PorterStemmer"
      ],
      "execution_count": 32,
      "outputs": []
    },
    {
      "cell_type": "code",
      "metadata": {
        "colab_type": "code",
        "id": "8QDtUsRmgUJE",
        "colab": {}
      },
      "source": [
        "#  data['reviews.text']= data['reviews.text'].apply(str)"
      ],
      "execution_count": 33,
      "outputs": []
    },
    {
      "cell_type": "code",
      "metadata": {
        "colab_type": "code",
        "id": "TuMKgl9wgUJH",
        "colab": {}
      },
      "source": [
        "# PEROFRMING DATA CLEANING, word segmentation AND STREMMING\n",
        "corpus = []\n",
        "for i in range(0, len(data['text'])):\n",
        "    new_text = re.sub('[^a-zA-Z]', ' ', data['text'][i])\n",
        "    new_text = new_text.lower()\n",
        "    new_text = new_text.split()\n",
        "    ps = PorterStemmer()\n",
        "    new_text = [ps.stem(word) for word in new_text if not word in set(stopwords.words('english'))]\n",
        "    new_text = ' '.join(new_text)\n",
        "    corpus.append(new_text)"
      ],
      "execution_count": 34,
      "outputs": []
    },
    {
      "cell_type": "code",
      "metadata": {
        "colab_type": "code",
        "id": "pDc2Mb8jgUJL",
        "colab": {}
      },
      "source": [
        "# corpus\n",
        "# MAX_LEN=20\n",
        "# tokenizer_obj=Tokenizer()\n",
        "# tokenizer_obj.fit_on_texts(tokenized)\n",
        "# sequences=tokenizer_obj.texts_to_sequences(tokenized)\n",
        "\n",
        "# tweet_pad=pad_sequences(sequences, maxlen=MAX_LEN, truncating='post', padding='post')\n",
        "# word_index=tokenizer_obj.word_index\n",
        "# print('Number of unique words:',len(word_index))\n"
      ],
      "execution_count": 35,
      "outputs": []
    },
    {
      "cell_type": "code",
      "metadata": {
        "colab_type": "code",
        "id": "A6PmjAfngUJO",
        "colab": {}
      },
      "source": [
        "#tokenization\n",
        "from keras.preprocessing import sequence\n",
        "max_words = 500\n",
        "max_len = 200\n",
        "tok = Tokenizer(num_words=max_words)\n",
        "tok.fit_on_texts(corpus)\n",
        "sequences = tok.texts_to_sequences(corpus)\n",
        "sequences_matrix = sequence.pad_sequences(sequences,maxlen=max_len)"
      ],
      "execution_count": 36,
      "outputs": []
    },
    {
      "cell_type": "code",
      "metadata": {
        "colab_type": "code",
        "id": "WsID5nR2gUJR",
        "colab": {
          "base_uri": "https://localhost:8080/",
          "height": 141
        },
        "outputId": "5a58c22c-d73a-43ae-df8d-1e62648f96d4"
      },
      "source": [
        "sequences_matrix"
      ],
      "execution_count": 37,
      "outputs": [
        {
          "output_type": "execute_result",
          "data": {
            "text/plain": [
              "array([[  0,   0,   0, ...,  22, 246,  82],\n",
              "       [  0,   0,   0, ...,   0,   8, 166],\n",
              "       [  0,   0,   0, ...,  36, 125,  67],\n",
              "       ...,\n",
              "       [  0,   0,   0, ...,   0,  80,   4],\n",
              "       [  0,   0,   0, ...,   0,   1, 100],\n",
              "       [  0,   0,   0, ...,   1,  92,   5]], dtype=int32)"
            ]
          },
          "metadata": {
            "tags": []
          },
          "execution_count": 37
        }
      ]
    },
    {
      "cell_type": "code",
      "metadata": {
        "id": "RBu3DScGUuQf",
        "colab_type": "code",
        "colab": {
          "base_uri": "https://localhost:8080/",
          "height": 34
        },
        "outputId": "790aa27a-8694-48e6-bb53-1364272861fa"
      },
      "source": [
        "max_words"
      ],
      "execution_count": 38,
      "outputs": [
        {
          "output_type": "execute_result",
          "data": {
            "text/plain": [
              "500"
            ]
          },
          "metadata": {
            "tags": []
          },
          "execution_count": 38
        }
      ]
    },
    {
      "cell_type": "code",
      "metadata": {
        "colab_type": "code",
        "id": "ifoKgHYsgUJU",
        "colab": {
          "base_uri": "https://localhost:8080/",
          "height": 318
        },
        "outputId": "9443bb92-0cf1-473c-83da-a56bebc62e0b"
      },
      "source": [
        "# embed_dim = 128\n",
        "# lstm_out = 196\n",
        "embedding_mat_col=100\n",
        "model = Sequential()\n",
        "model.add(Embedding(max_words,embedding_mat_col,input_length = max_len))\n",
        "model.add(SpatialDropout1D(0.4))\n",
        "model.add(LSTM(100, dropout=0.4, recurrent_dropout=0.4))\n",
        "\n",
        "model.add(Dense(4,activation='softmax'))\n",
        "model.compile(loss = 'categorical_crossentropy', optimizer='adam',metrics = ['accuracy'])\n",
        "print(model.summary())"
      ],
      "execution_count": 39,
      "outputs": [
        {
          "output_type": "stream",
          "text": [
            "Model: \"sequential_1\"\n",
            "_________________________________________________________________\n",
            "Layer (type)                 Output Shape              Param #   \n",
            "=================================================================\n",
            "embedding_1 (Embedding)      (None, 200, 100)          50000     \n",
            "_________________________________________________________________\n",
            "spatial_dropout1d_1 (Spatial (None, 200, 100)          0         \n",
            "_________________________________________________________________\n",
            "lstm_1 (LSTM)                (None, 100)               80400     \n",
            "_________________________________________________________________\n",
            "dense_1 (Dense)              (None, 4)                 404       \n",
            "=================================================================\n",
            "Total params: 130,804\n",
            "Trainable params: 130,804\n",
            "Non-trainable params: 0\n",
            "_________________________________________________________________\n",
            "None\n"
          ],
          "name": "stdout"
        }
      ]
    },
    {
      "cell_type": "code",
      "metadata": {
        "colab_type": "code",
        "id": "IejZbDoYgUJX",
        "colab": {
          "base_uri": "https://localhost:8080/",
          "height": 197
        },
        "outputId": "e659bfc0-c5ae-4297-f25b-26bd2903041c"
      },
      "source": [
        "dummies = pd.get_dummies(data['label'])\n",
        "dummies.head()\n"
      ],
      "execution_count": 40,
      "outputs": [
        {
          "output_type": "execute_result",
          "data": {
            "text/html": [
              "<div>\n",
              "<style scoped>\n",
              "    .dataframe tbody tr th:only-of-type {\n",
              "        vertical-align: middle;\n",
              "    }\n",
              "\n",
              "    .dataframe tbody tr th {\n",
              "        vertical-align: top;\n",
              "    }\n",
              "\n",
              "    .dataframe thead th {\n",
              "        text-align: right;\n",
              "    }\n",
              "</style>\n",
              "<table border=\"1\" class=\"dataframe\">\n",
              "  <thead>\n",
              "    <tr style=\"text-align: right;\">\n",
              "      <th></th>\n",
              "      <th>Alcohol</th>\n",
              "      <th>Depression</th>\n",
              "      <th>Drugs</th>\n",
              "      <th>Suicide</th>\n",
              "    </tr>\n",
              "  </thead>\n",
              "  <tbody>\n",
              "    <tr>\n",
              "      <th>0</th>\n",
              "      <td>0</td>\n",
              "      <td>1</td>\n",
              "      <td>0</td>\n",
              "      <td>0</td>\n",
              "    </tr>\n",
              "    <tr>\n",
              "      <th>1</th>\n",
              "      <td>0</td>\n",
              "      <td>0</td>\n",
              "      <td>1</td>\n",
              "      <td>0</td>\n",
              "    </tr>\n",
              "    <tr>\n",
              "      <th>2</th>\n",
              "      <td>0</td>\n",
              "      <td>1</td>\n",
              "      <td>0</td>\n",
              "      <td>0</td>\n",
              "    </tr>\n",
              "    <tr>\n",
              "      <th>3</th>\n",
              "      <td>0</td>\n",
              "      <td>0</td>\n",
              "      <td>0</td>\n",
              "      <td>1</td>\n",
              "    </tr>\n",
              "    <tr>\n",
              "      <th>4</th>\n",
              "      <td>0</td>\n",
              "      <td>1</td>\n",
              "      <td>0</td>\n",
              "      <td>0</td>\n",
              "    </tr>\n",
              "  </tbody>\n",
              "</table>\n",
              "</div>"
            ],
            "text/plain": [
              "   Alcohol  Depression  Drugs  Suicide\n",
              "0        0           1      0        0\n",
              "1        0           0      1        0\n",
              "2        0           1      0        0\n",
              "3        0           0      0        1\n",
              "4        0           1      0        0"
            ]
          },
          "metadata": {
            "tags": []
          },
          "execution_count": 40
        }
      ]
    },
    {
      "cell_type": "code",
      "metadata": {
        "id": "xRzCUw8Yrngh",
        "colab_type": "code",
        "colab": {}
      },
      "source": [
        "y=data['label']"
      ],
      "execution_count": 41,
      "outputs": []
    },
    {
      "cell_type": "code",
      "metadata": {
        "colab_type": "code",
        "id": "esoX4pl0gUJa",
        "colab": {
          "base_uri": "https://localhost:8080/",
          "height": 52
        },
        "outputId": "aa887534-3f3f-4d2d-8240-fc22a730fb4e"
      },
      "source": [
        "X=sequences_matrix\n",
        "\n",
        "X_train, X_test, Y_train, Y_test = train_test_split(X,dummies, test_size = 0.2, random_state = 42)\n",
        "print(X_train.shape,Y_train.shape)\n",
        "print(X_test.shape,Y_test.shape)"
      ],
      "execution_count": 42,
      "outputs": [
        {
          "output_type": "stream",
          "text": [
            "(492, 200) (492, 4)\n",
            "(124, 200) (124, 4)\n"
          ],
          "name": "stdout"
        }
      ]
    },
    {
      "cell_type": "code",
      "metadata": {
        "colab_type": "code",
        "id": "jAmr0c_egUJe",
        "colab": {
          "base_uri": "https://localhost:8080/",
          "height": 390
        },
        "outputId": "3fdf94fc-f5b3-4be2-fb47-033413650e02"
      },
      "source": [
        "batch_size =16\n",
        "model.fit(X_train, Y_train, epochs = 10, batch_size=batch_size,validation_data=(X_test,Y_test),verbose = 2)"
      ],
      "execution_count": 43,
      "outputs": [
        {
          "output_type": "stream",
          "text": [
            "Epoch 1/10\n",
            "31/31 - 11s - loss: 1.1868 - accuracy: 0.5407 - val_loss: 1.2494 - val_accuracy: 0.5081\n",
            "Epoch 2/10\n",
            "31/31 - 10s - loss: 1.0486 - accuracy: 0.5915 - val_loss: 1.1230 - val_accuracy: 0.5081\n",
            "Epoch 3/10\n",
            "31/31 - 10s - loss: 0.8760 - accuracy: 0.6687 - val_loss: 0.8890 - val_accuracy: 0.6774\n",
            "Epoch 4/10\n",
            "31/31 - 10s - loss: 0.6335 - accuracy: 0.7724 - val_loss: 0.6874 - val_accuracy: 0.7177\n",
            "Epoch 5/10\n",
            "31/31 - 10s - loss: 0.4797 - accuracy: 0.7886 - val_loss: 0.6282 - val_accuracy: 0.7016\n",
            "Epoch 6/10\n",
            "31/31 - 10s - loss: 0.3891 - accuracy: 0.8476 - val_loss: 0.5558 - val_accuracy: 0.7903\n",
            "Epoch 7/10\n",
            "31/31 - 10s - loss: 0.3464 - accuracy: 0.8780 - val_loss: 0.5426 - val_accuracy: 0.8065\n",
            "Epoch 8/10\n",
            "31/31 - 10s - loss: 0.2837 - accuracy: 0.9207 - val_loss: 0.4979 - val_accuracy: 0.8629\n",
            "Epoch 9/10\n",
            "31/31 - 10s - loss: 0.2470 - accuracy: 0.9289 - val_loss: 0.4629 - val_accuracy: 0.8710\n",
            "Epoch 10/10\n",
            "31/31 - 10s - loss: 0.1955 - accuracy: 0.9431 - val_loss: 0.4668 - val_accuracy: 0.8629\n"
          ],
          "name": "stdout"
        },
        {
          "output_type": "execute_result",
          "data": {
            "text/plain": [
              "<tensorflow.python.keras.callbacks.History at 0x7f1c59374a90>"
            ]
          },
          "metadata": {
            "tags": []
          },
          "execution_count": 43
        }
      ]
    },
    {
      "cell_type": "code",
      "metadata": {
        "colab_type": "code",
        "id": "WwizjxkFgUJh",
        "colab": {
          "base_uri": "https://localhost:8080/",
          "height": 87
        },
        "outputId": "dd489baf-4b7a-469c-b39f-281cdd855e5b"
      },
      "source": [
        "accr = model.evaluate(X_test,Y_test)\n",
        "print('Test set\\n  Loss: {:0.3f}\\n  Accuracy: {:0.3f}'.format(accr[0],accr[1]))"
      ],
      "execution_count": 44,
      "outputs": [
        {
          "output_type": "stream",
          "text": [
            "4/4 [==============================] - 0s 42ms/step - loss: 0.4668 - accuracy: 0.8629\n",
            "Test set\n",
            "  Loss: 0.467\n",
            "  Accuracy: 0.863\n"
          ],
          "name": "stdout"
        }
      ]
    },
    {
      "cell_type": "code",
      "metadata": {
        "id": "ZitY4yfAoh1_",
        "colab_type": "code",
        "colab": {}
      },
      "source": [
        "alcohol_msg=[\"Drunkenness is nothing but voluntary madness.\",\"Drink because you are happy, but never because you are miserable.\",\n",
        "            \"Talking to a drunk person was like talking to an extremely happy, severely brain-damaged three-year-old STOP IT TODAY!\",\n",
        "            \"First you take a drink, then the drink takes a drink, then the drink takes you.\",\"As an alcoholic, you will violate your standards quicker than you can lower them.\"]\n",
        "\n",
        "depression_msg=[\"There is hope, even when your brain tells you there isn’t\",\"Sometimes, life will kick you around, but sooner or later, you realize you’re not just a survivor. You’re a warrior, and you’re stronger than anything life throws your way.\",\n",
        "               \"On particularly rough days when I’m sure I can’t possibly endure, I like to remind myself that my track record for getting through bad days so far is 100%, and that’s pretty good, YOU CAN DO THIS TOO !\",\n",
        "               \"Sometimes you climb out of bed in the morning and you think, I’m not going to make it, but you laugh inside – remembering all the times you’ve felt that way.\",\"Give yourself another day, another chance. You will find your courage eventually. Don’t give up on yourself just yet\",\n",
        "               ]\n",
        "Drugs_msg=[\"When everything seems like an uphill struggle, just think of the view from the top.\",\"If you can quit for a day, you can quit for a lifetime.\",\n",
        "          \"Recovery is hard. Regret is harder.\",\"You can’t defeat the darkness by keeping it caged inside of you\",\"When you use drugs for a long time, it can cause changes in other brain chemical systems and circuits as well, STOP IT NOW !\"]\n",
        "\n",
        "suicidal_msg=[\"Soak up the views. Take in the bad weather and the good weather. You are not the storm.\",\"Suicide doesn’t end the chances of life getting worse, it eliminates the possibility of it ever getting any better\",\n",
        "             \"Never, never, never give up!\",\"If you’re looking for a sign not to kill yourself, this is it.\",\"The person who completes suicide, dies once. Those left behind die a thousand deaths, trying to relive those terrible moments and understand… why?\",\n",
        "             \"Place your hand over your heart, can you feel it? That is called purpose. You’re alive for a reason so don’t ever give up.\"]"
      ],
      "execution_count": 45,
      "outputs": []
    },
    {
      "cell_type": "code",
      "metadata": {
        "id": "BWUhArKrq2jS",
        "colab_type": "code",
        "colab": {}
      },
      "source": [
        ""
      ],
      "execution_count": null,
      "outputs": []
    },
    {
      "cell_type": "code",
      "metadata": {
        "id": "Mg5qUEtPrN9U",
        "colab_type": "code",
        "colab": {
          "base_uri": "https://localhost:8080/",
          "height": 70
        },
        "outputId": "06c685c4-1a05-43d5-f58a-2cd3ca27f53d"
      },
      "source": [
        "import random\n",
        "test_data=pd.read_csv('/content/sample_data/TestBSNLP.csv')\n",
        "test_data=test_data.drop(columns='ID',axis=1)\n",
        "\n",
        "text = random.choice(test_data['text'])\n",
        "print(text)\n",
        "#vectorizing the tweet by the pre-fitted tokenizer instance\n",
        "text = tok.texts_to_sequences(text)\n",
        "#padding the tweet to have exactly the same shape as `embedding_2` input\n",
        "text = pad_sequences(text, maxlen=200, dtype='int32', value=0)\n",
        "sentiment = model.predict(text,batch_size=1,verbose = 2)[0]\n",
        "print(sentiment)"
      ],
      "execution_count": 47,
      "outputs": [
        {
          "output_type": "stream",
          "text": [
            "I feel low,what should I do?\n",
            "28/28 - 1s\n",
            "[0.12663223 0.47377843 0.09221898 0.3073704 ]\n"
          ],
          "name": "stdout"
        }
      ]
    },
    {
      "cell_type": "code",
      "metadata": {
        "id": "HXBR7hIi1z6k",
        "colab_type": "code",
        "colab": {
          "base_uri": "https://localhost:8080/",
          "height": 72
        },
        "outputId": "51606a5a-28b3-4eff-c6ee-8988c0a08c09"
      },
      "source": [
        "list=[]\n",
        "for i in sentiment:\n",
        "    list.append(i)\n",
        "m=max(list)\n",
        "index=list.index(m)\n",
        "if index==0:\n",
        "    print('Alcohol')\n",
        "    print(random.choice(alcohol_msg))\n",
        "elif index==1:\n",
        "    print('Depression')\n",
        "    print(random.choice(depression_msg))\n",
        "elif index==2:\n",
        "    print('Drugs')\n",
        "    print(random.choice(Drugs_msg))\n",
        "elif index==3:\n",
        "    print('Suicide')   \n",
        "    print(random.choice(suicidal_msg))\n",
        "\n"
      ],
      "execution_count": 48,
      "outputs": [
        {
          "output_type": "stream",
          "text": [
            "Depression\n",
            "On particularly rough days when I’m sure I can’t possibly endure, I like to remind myself that my track record for getting through bad days so far is 100%, and that’s pretty good, YOU CAN DO THIS TOO !\n"
          ],
          "name": "stdout"
        }
      ]
    },
    {
      "cell_type": "code",
      "metadata": {
        "colab_type": "code",
        "id": "NIIwTLvDVsrd",
        "colab": {}
      },
      "source": [
        ""
      ],
      "execution_count": null,
      "outputs": []
    },
    {
      "cell_type": "code",
      "metadata": {
        "colab_type": "code",
        "id": "Jp4B4h0RVtH_",
        "colab": {}
      },
      "source": [
        ""
      ],
      "execution_count": null,
      "outputs": []
    },
    {
      "cell_type": "code",
      "metadata": {
        "colab_type": "code",
        "id": "MpNUsWhyVtrc",
        "colab": {}
      },
      "source": [
        ""
      ],
      "execution_count": null,
      "outputs": []
    }
  ]
}