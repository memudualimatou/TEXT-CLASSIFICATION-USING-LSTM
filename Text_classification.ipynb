{
  "nbformat": 4,
  "nbformat_minor": 0,
  "metadata": {
    "colab": {
      "name": "NLPzindi.ipynb",
      "provenance": [],
      "collapsed_sections": []
    },
    "kernelspec": {
      "display_name": "Python 3",
      "language": "python",
      "name": "python3"
    },
    "language_info": {
      "codemirror_mode": {
        "name": "ipython",
        "version": 3
      },
      "file_extension": ".py",
      "mimetype": "text/x-python",
      "name": "python",
      "nbconvert_exporter": "python",
      "pygments_lexer": "ipython3",
      "version": "3.7.4"
    }
  },
  "cells": [
    {
      "cell_type": "code",
      "metadata": {
        "colab_type": "code",
        "id": "ofpJfMcCgUH5",
        "colab": {
          "base_uri": "https://localhost:8080/",
          "height": 87
        },
        "outputId": "4dd25b9a-31c0-46c8-c86d-a055ed542185"
      },
      "source": [
        "import nltk\n",
        "from nltk.corpus import stopwords\n",
        "import numpy as np\n",
        "import pandas as pd\n",
        "import re\n",
        "import string\n",
        "import keras.backend as K\n",
        "from nltk.tokenize import word_tokenize\n",
        "from sklearn import feature_extraction\n",
        "from tensorflow.keras.preprocessing.text import Tokenizer\n",
        "from tensorflow.keras.preprocessing.sequence import pad_sequences\n",
        "from tqdm import tqdm\n",
        "import tensorflow.keras.regularizers as regularizers\n",
        "from tensorflow.keras.models import Sequential\n",
        "from tensorflow.keras.layers import Embedding,LSTM,Dense,SpatialDropout1D\n",
        "from tensorflow.keras.initializers import Constant\n",
        "from sklearn.model_selection import train_test_split\n",
        "from tensorflow.keras.optimizers import Adam\n",
        "nltk.download('stopwords')\n",
        "nltk.download('punkt')\n",
        "stop=set(stopwords.words('english'))"
      ],
      "execution_count": 108,
      "outputs": [
        {
          "output_type": "stream",
          "text": [
            "[nltk_data] Downloading package stopwords to /root/nltk_data...\n",
            "[nltk_data]   Package stopwords is already up-to-date!\n",
            "[nltk_data] Downloading package punkt to /root/nltk_data...\n",
            "[nltk_data]   Package punkt is already up-to-date!\n"
          ],
          "name": "stdout"
        }
      ]
    },
    {
      "cell_type": "code",
      "metadata": {
        "colab_type": "code",
        "id": "iLdt4BgagUIK",
        "colab": {}
      },
      "source": [
        "data=pd.read_csv('/content/sample_data/TrainBSNLP.csv')"
      ],
      "execution_count": 109,
      "outputs": []
    },
    {
      "cell_type": "code",
      "metadata": {
        "colab_type": "code",
        "id": "hq5R66PvgUIY",
        "colab": {
          "base_uri": "https://localhost:8080/",
          "height": 197
        },
        "outputId": "56cfb821-6ce7-4f45-a18a-e40c540d0c0e"
      },
      "source": [
        "data.head()"
      ],
      "execution_count": 110,
      "outputs": [
        {
          "output_type": "execute_result",
          "data": {
            "text/html": [
              "<div>\n",
              "<style scoped>\n",
              "    .dataframe tbody tr th:only-of-type {\n",
              "        vertical-align: middle;\n",
              "    }\n",
              "\n",
              "    .dataframe tbody tr th {\n",
              "        vertical-align: top;\n",
              "    }\n",
              "\n",
              "    .dataframe thead th {\n",
              "        text-align: right;\n",
              "    }\n",
              "</style>\n",
              "<table border=\"1\" class=\"dataframe\">\n",
              "  <thead>\n",
              "    <tr style=\"text-align: right;\">\n",
              "      <th></th>\n",
              "      <th>ID</th>\n",
              "      <th>text</th>\n",
              "      <th>label</th>\n",
              "    </tr>\n",
              "  </thead>\n",
              "  <tbody>\n",
              "    <tr>\n",
              "      <th>0</th>\n",
              "      <td>SUAVK39Z</td>\n",
              "      <td>I feel that it was better I dieAm happy</td>\n",
              "      <td>Depression</td>\n",
              "    </tr>\n",
              "    <tr>\n",
              "      <th>1</th>\n",
              "      <td>9JDAGUV3</td>\n",
              "      <td>Why do I get hallucinations?</td>\n",
              "      <td>Drugs</td>\n",
              "    </tr>\n",
              "    <tr>\n",
              "      <th>2</th>\n",
              "      <td>419WR1LQ</td>\n",
              "      <td>I am stresseed due to lack of financial suppor...</td>\n",
              "      <td>Depression</td>\n",
              "    </tr>\n",
              "    <tr>\n",
              "      <th>3</th>\n",
              "      <td>6UY7DX6Q</td>\n",
              "      <td>Why is life important?</td>\n",
              "      <td>Suicide</td>\n",
              "    </tr>\n",
              "    <tr>\n",
              "      <th>4</th>\n",
              "      <td>FYC0FTFB</td>\n",
              "      <td>How could I be helped to go through the depres...</td>\n",
              "      <td>Depression</td>\n",
              "    </tr>\n",
              "  </tbody>\n",
              "</table>\n",
              "</div>"
            ],
            "text/plain": [
              "         ID                                               text       label\n",
              "0  SUAVK39Z            I feel that it was better I dieAm happy  Depression\n",
              "1  9JDAGUV3                       Why do I get hallucinations?       Drugs\n",
              "2  419WR1LQ  I am stresseed due to lack of financial suppor...  Depression\n",
              "3  6UY7DX6Q                             Why is life important?     Suicide\n",
              "4  FYC0FTFB  How could I be helped to go through the depres...  Depression"
            ]
          },
          "metadata": {
            "tags": []
          },
          "execution_count": 110
        }
      ]
    },
    {
      "cell_type": "code",
      "metadata": {
        "colab_type": "code",
        "id": "HECfmpYngUIm",
        "colab": {
          "base_uri": "https://localhost:8080/",
          "height": 194
        },
        "outputId": "821cf465-ab1b-46ab-88a1-a0d17bad0c3e"
      },
      "source": [
        "data.info()"
      ],
      "execution_count": 111,
      "outputs": [
        {
          "output_type": "stream",
          "text": [
            "<class 'pandas.core.frame.DataFrame'>\n",
            "RangeIndex: 616 entries, 0 to 615\n",
            "Data columns (total 3 columns):\n",
            " #   Column  Non-Null Count  Dtype \n",
            "---  ------  --------------  ----- \n",
            " 0   ID      616 non-null    object\n",
            " 1   text    616 non-null    object\n",
            " 2   label   616 non-null    object\n",
            "dtypes: object(3)\n",
            "memory usage: 14.6+ KB\n"
          ],
          "name": "stdout"
        }
      ]
    },
    {
      "cell_type": "code",
      "metadata": {
        "colab_type": "code",
        "id": "2v9B1lfmgUIt",
        "colab": {}
      },
      "source": [
        ""
      ],
      "execution_count": 111,
      "outputs": []
    },
    {
      "cell_type": "code",
      "metadata": {
        "colab_type": "code",
        "id": "mRSVi1xMgUIy",
        "colab": {
          "base_uri": "https://localhost:8080/",
          "height": 347
        },
        "outputId": "a8956932-279c-4f0f-d04f-12e0b1b4fa2d"
      },
      "source": [
        "data.head(10)"
      ],
      "execution_count": 112,
      "outputs": [
        {
          "output_type": "execute_result",
          "data": {
            "text/html": [
              "<div>\n",
              "<style scoped>\n",
              "    .dataframe tbody tr th:only-of-type {\n",
              "        vertical-align: middle;\n",
              "    }\n",
              "\n",
              "    .dataframe tbody tr th {\n",
              "        vertical-align: top;\n",
              "    }\n",
              "\n",
              "    .dataframe thead th {\n",
              "        text-align: right;\n",
              "    }\n",
              "</style>\n",
              "<table border=\"1\" class=\"dataframe\">\n",
              "  <thead>\n",
              "    <tr style=\"text-align: right;\">\n",
              "      <th></th>\n",
              "      <th>ID</th>\n",
              "      <th>text</th>\n",
              "      <th>label</th>\n",
              "    </tr>\n",
              "  </thead>\n",
              "  <tbody>\n",
              "    <tr>\n",
              "      <th>0</th>\n",
              "      <td>SUAVK39Z</td>\n",
              "      <td>I feel that it was better I dieAm happy</td>\n",
              "      <td>Depression</td>\n",
              "    </tr>\n",
              "    <tr>\n",
              "      <th>1</th>\n",
              "      <td>9JDAGUV3</td>\n",
              "      <td>Why do I get hallucinations?</td>\n",
              "      <td>Drugs</td>\n",
              "    </tr>\n",
              "    <tr>\n",
              "      <th>2</th>\n",
              "      <td>419WR1LQ</td>\n",
              "      <td>I am stresseed due to lack of financial suppor...</td>\n",
              "      <td>Depression</td>\n",
              "    </tr>\n",
              "    <tr>\n",
              "      <th>3</th>\n",
              "      <td>6UY7DX6Q</td>\n",
              "      <td>Why is life important?</td>\n",
              "      <td>Suicide</td>\n",
              "    </tr>\n",
              "    <tr>\n",
              "      <th>4</th>\n",
              "      <td>FYC0FTFB</td>\n",
              "      <td>How could I be helped to go through the depres...</td>\n",
              "      <td>Depression</td>\n",
              "    </tr>\n",
              "    <tr>\n",
              "      <th>5</th>\n",
              "      <td>V6VSDJ5I</td>\n",
              "      <td>What are the effects of depression to ones health</td>\n",
              "      <td>Depression</td>\n",
              "    </tr>\n",
              "    <tr>\n",
              "      <th>6</th>\n",
              "      <td>9736J4UE</td>\n",
              "      <td>Why is everything so hard to deal with in this...</td>\n",
              "      <td>Depression</td>\n",
              "    </tr>\n",
              "    <tr>\n",
              "      <th>7</th>\n",
              "      <td>AY8L479Y</td>\n",
              "      <td>I feel emotionally overwhelmed</td>\n",
              "      <td>Depression</td>\n",
              "    </tr>\n",
              "    <tr>\n",
              "      <th>8</th>\n",
              "      <td>OSFJV5EC</td>\n",
              "      <td>How to manage taking alcohol?</td>\n",
              "      <td>Alcohol</td>\n",
              "    </tr>\n",
              "    <tr>\n",
              "      <th>9</th>\n",
              "      <td>U4SGUGGM</td>\n",
              "      <td>Is heaven open for us who smoke bhang?</td>\n",
              "      <td>Drugs</td>\n",
              "    </tr>\n",
              "  </tbody>\n",
              "</table>\n",
              "</div>"
            ],
            "text/plain": [
              "         ID                                               text       label\n",
              "0  SUAVK39Z            I feel that it was better I dieAm happy  Depression\n",
              "1  9JDAGUV3                       Why do I get hallucinations?       Drugs\n",
              "2  419WR1LQ  I am stresseed due to lack of financial suppor...  Depression\n",
              "3  6UY7DX6Q                             Why is life important?     Suicide\n",
              "4  FYC0FTFB  How could I be helped to go through the depres...  Depression\n",
              "5  V6VSDJ5I  What are the effects of depression to ones health  Depression\n",
              "6  9736J4UE  Why is everything so hard to deal with in this...  Depression\n",
              "7  AY8L479Y                    I feel emotionally overwhelmed   Depression\n",
              "8  OSFJV5EC                      How to manage taking alcohol?     Alcohol\n",
              "9  U4SGUGGM             Is heaven open for us who smoke bhang?       Drugs"
            ]
          },
          "metadata": {
            "tags": []
          },
          "execution_count": 112
        }
      ]
    },
    {
      "cell_type": "code",
      "metadata": {
        "colab_type": "code",
        "id": "fAq6ks5AgUI2",
        "colab": {
          "base_uri": "https://localhost:8080/",
          "height": 194
        },
        "outputId": "7f1181f6-af24-400f-98a4-63e8a99904e5"
      },
      "source": [
        "data.info()"
      ],
      "execution_count": 113,
      "outputs": [
        {
          "output_type": "stream",
          "text": [
            "<class 'pandas.core.frame.DataFrame'>\n",
            "RangeIndex: 616 entries, 0 to 615\n",
            "Data columns (total 3 columns):\n",
            " #   Column  Non-Null Count  Dtype \n",
            "---  ------  --------------  ----- \n",
            " 0   ID      616 non-null    object\n",
            " 1   text    616 non-null    object\n",
            " 2   label   616 non-null    object\n",
            "dtypes: object(3)\n",
            "memory usage: 14.6+ KB\n"
          ],
          "name": "stdout"
        }
      ]
    },
    {
      "cell_type": "code",
      "metadata": {
        "colab_type": "code",
        "id": "391tYM4AgUI6",
        "colab": {}
      },
      "source": [
        "# data.dropna()"
      ],
      "execution_count": 114,
      "outputs": []
    },
    {
      "cell_type": "code",
      "metadata": {
        "colab_type": "code",
        "id": "AXFQ_iXTgUI-",
        "colab": {
          "base_uri": "https://localhost:8080/",
          "height": 278
        },
        "outputId": "c3a99cf7-1b09-4ca9-b41a-fdd58bba9461"
      },
      "source": [
        "# DATA VISUALIZATION\n",
        "import seaborn as sb\n",
        "import matplotlib.pyplot as plt\n",
        "sb.countplot(data['label'])\n",
        "plt.show()"
      ],
      "execution_count": 115,
      "outputs": [
        {
          "output_type": "display_data",
          "data": {
            "image/png": "[encoded data removed]",
            "text/plain": [
              "<Figure size 432x288 with 1 Axes>"
            ]
          },
          "metadata": {
            "tags": [],
            "needs_background": "light"
          }
        }
      ]
    },
    {
      "cell_type": "code",
      "metadata": {
        "colab_type": "code",
        "id": "ODGMKMnvgUJB",
        "colab": {}
      },
      "source": [
        "import re\n",
        "import nltk\n",
        "from nltk.corpus import stopwords\n",
        "from nltk.stem.porter import PorterStemmer"
      ],
      "execution_count": 116,
      "outputs": []
    },
    {
      "cell_type": "code",
      "metadata": {
        "colab_type": "code",
        "id": "TuMKgl9wgUJH",
        "colab": {}
      },
      "source": [
        "# PEROFRMING DATA CLEANING, word segmentation AND STREMMING\n",
        "corpus = []\n",
        "for i in range(0, len(data['text'])):\n",
        "    new_text = re.sub('[^a-zA-Z]', ' ', data['text'][i])\n",
        "    new_text = new_text.lower()\n",
        "    new_text = new_text.split()\n",
        "    ps = PorterStemmer()\n",
        "    new_text = [ps.stem(word) for word in new_text if not word in set(stopwords.words('english'))]\n",
        "    new_text = ' '.join(new_text)\n",
        "    corpus.append(new_text)"
      ],
      "execution_count": 117,
      "outputs": []
    },
    {
      "cell_type": "code",
      "metadata": {
        "colab_type": "code",
        "id": "A6PmjAfngUJO",
        "colab": {}
      },
      "source": [
        "#tokenization\n",
        "from keras.preprocessing import sequence\n",
        "max_words = 500\n",
        "max_len = 200\n",
        "tok = Tokenizer(num_words=max_words)\n",
        "tok.fit_on_texts(corpus)\n",
        "sequences = tok.texts_to_sequences(corpus)\n",
        "sequences_matrix = sequence.pad_sequences(sequences,maxlen=max_len)"
      ],
      "execution_count": 118,
      "outputs": []
    },
    {
      "cell_type": "code",
      "metadata": {
        "colab_type": "code",
        "id": "WsID5nR2gUJR",
        "colab": {
          "base_uri": "https://localhost:8080/",
          "height": 141
        },
        "outputId": "0dc2925e-a79c-40aa-b1dc-73117df07773"
      },
      "source": [
        "sequences_matrix"
      ],
      "execution_count": 119,
      "outputs": [
        {
          "output_type": "execute_result",
          "data": {
            "text/plain": [
              "array([[  0,   0,   0, ...,  22, 246,  82],\n",
              "       [  0,   0,   0, ...,   0,   8, 166],\n",
              "       [  0,   0,   0, ...,  36, 125,  67],\n",
              "       ...,\n",
              "       [  0,   0,   0, ...,   0,  80,   4],\n",
              "       [  0,   0,   0, ...,   0,   1, 100],\n",
              "       [  0,   0,   0, ...,   1,  92,   5]], dtype=int32)"
            ]
          },
          "metadata": {
            "tags": []
          },
          "execution_count": 119
        }
      ]
    },
    {
      "cell_type": "code",
      "metadata": {
        "colab_type": "code",
        "id": "ifoKgHYsgUJU",
        "colab": {
          "base_uri": "https://localhost:8080/",
          "height": 318
        },
        "outputId": "23361c0c-3696-402c-9829-4b593ac35681"
      },
      "source": [
        "\n",
        "embedding_mat_col=100\n",
        "model = Sequential()\n",
        "model.add(Embedding(max_words,embedding_mat_col,input_length = max_len))\n",
        "model.add(SpatialDropout1D(0.4))\n",
        "model.add(LSTM(100, dropout=0.4, recurrent_dropout=0.4))\n",
        "\n",
        "model.add(Dense(4,activation='softmax'))\n",
        "model.compile(loss = 'categorical_crossentropy', optimizer='adam',metrics = ['accuracy'])\n",
        "print(model.summary())"
      ],
      "execution_count": 120,
      "outputs": [
        {
          "output_type": "stream",
          "text": [
            "Model: \"sequential_5\"\n",
            "_________________________________________________________________\n",
            "Layer (type)                 Output Shape              Param #   \n",
            "=================================================================\n",
            "embedding_5 (Embedding)      (None, 200, 100)          50000     \n",
            "_________________________________________________________________\n",
            "spatial_dropout1d_5 (Spatial (None, 200, 100)          0         \n",
            "_________________________________________________________________\n",
            "lstm_5 (LSTM)                (None, 100)               80400     \n",
            "_________________________________________________________________\n",
            "dense_5 (Dense)              (None, 4)                 404       \n",
            "=================================================================\n",
            "Total params: 130,804\n",
            "Trainable params: 130,804\n",
            "Non-trainable params: 0\n",
            "_________________________________________________________________\n",
            "None\n"
          ],
          "name": "stdout"
        }
      ]
    },
    {
      "cell_type": "code",
      "metadata": {
        "colab_type": "code",
        "id": "IejZbDoYgUJX",
        "colab": {
          "base_uri": "https://localhost:8080/",
          "height": 197
        },
        "outputId": "011ccb81-53ea-4bb0-bb75-4a71feb91461"
      },
      "source": [
        "dummies = pd.get_dummies(data['label'])\n",
        "dummies.head()\n"
      ],
      "execution_count": 121,
      "outputs": [
        {
          "output_type": "execute_result",
          "data": {
            "text/html": [
              "<div>\n",
              "<style scoped>\n",
              "    .dataframe tbody tr th:only-of-type {\n",
              "        vertical-align: middle;\n",
              "    }\n",
              "\n",
              "    .dataframe tbody tr th {\n",
              "        vertical-align: top;\n",
              "    }\n",
              "\n",
              "    .dataframe thead th {\n",
              "        text-align: right;\n",
              "    }\n",
              "</style>\n",
              "<table border=\"1\" class=\"dataframe\">\n",
              "  <thead>\n",
              "    <tr style=\"text-align: right;\">\n",
              "      <th></th>\n",
              "      <th>Alcohol</th>\n",
              "      <th>Depression</th>\n",
              "      <th>Drugs</th>\n",
              "      <th>Suicide</th>\n",
              "    </tr>\n",
              "  </thead>\n",
              "  <tbody>\n",
              "    <tr>\n",
              "      <th>0</th>\n",
              "      <td>0</td>\n",
              "      <td>1</td>\n",
              "      <td>0</td>\n",
              "      <td>0</td>\n",
              "    </tr>\n",
              "    <tr>\n",
              "      <th>1</th>\n",
              "      <td>0</td>\n",
              "      <td>0</td>\n",
              "      <td>1</td>\n",
              "      <td>0</td>\n",
              "    </tr>\n",
              "    <tr>\n",
              "      <th>2</th>\n",
              "      <td>0</td>\n",
              "      <td>1</td>\n",
              "      <td>0</td>\n",
              "      <td>0</td>\n",
              "    </tr>\n",
              "    <tr>\n",
              "      <th>3</th>\n",
              "      <td>0</td>\n",
              "      <td>0</td>\n",
              "      <td>0</td>\n",
              "      <td>1</td>\n",
              "    </tr>\n",
              "    <tr>\n",
              "      <th>4</th>\n",
              "      <td>0</td>\n",
              "      <td>1</td>\n",
              "      <td>0</td>\n",
              "      <td>0</td>\n",
              "    </tr>\n",
              "  </tbody>\n",
              "</table>\n",
              "</div>"
            ],
            "text/plain": [
              "   Alcohol  Depression  Drugs  Suicide\n",
              "0        0           1      0        0\n",
              "1        0           0      1        0\n",
              "2        0           1      0        0\n",
              "3        0           0      0        1\n",
              "4        0           1      0        0"
            ]
          },
          "metadata": {
            "tags": []
          },
          "execution_count": 121
        }
      ]
    },
    {
      "cell_type": "code",
      "metadata": {
        "colab_type": "code",
        "id": "esoX4pl0gUJa",
        "colab": {
          "base_uri": "https://localhost:8080/",
          "height": 52
        },
        "outputId": "1ff5ed7d-24f9-48a4-908f-b97369ba6512"
      },
      "source": [
        "X=sequences_matrix\n",
        "\n",
        "X_train, X_test, Y_train, Y_test = train_test_split(X,dummies, test_size = 0.2, random_state = 42)\n",
        "print(X_train.shape,Y_train.shape)\n",
        "print(X_test.shape,Y_test.shape)"
      ],
      "execution_count": 122,
      "outputs": [
        {
          "output_type": "stream",
          "text": [
            "(492, 200) (492, 4)\n",
            "(124, 200) (124, 4)\n"
          ],
          "name": "stdout"
        }
      ]
    },
    {
      "cell_type": "code",
      "metadata": {
        "colab_type": "code",
        "id": "jAmr0c_egUJe",
        "colab": {
          "base_uri": "https://localhost:8080/",
          "height": 390
        },
        "outputId": "688be803-d195-4753-89e5-9db80528641b"
      },
      "source": [
        "batch_size =16\n",
        "model.fit(X_train, Y_train, epochs = 10, batch_size=batch_size,verbose = 2)"
      ],
      "execution_count": 123,
      "outputs": [
        {
          "output_type": "stream",
          "text": [
            "Epoch 1/10\n",
            "31/31 - 10s - loss: 1.1398 - accuracy: 0.5732\n",
            "Epoch 2/10\n",
            "31/31 - 10s - loss: 1.0355 - accuracy: 0.5894\n",
            "Epoch 3/10\n",
            "31/31 - 10s - loss: 0.8602 - accuracy: 0.7012\n",
            "Epoch 4/10\n",
            "31/31 - 10s - loss: 0.6137 - accuracy: 0.7785\n",
            "Epoch 5/10\n",
            "31/31 - 10s - loss: 0.4762 - accuracy: 0.8130\n",
            "Epoch 6/10\n",
            "31/31 - 10s - loss: 0.3862 - accuracy: 0.8557\n",
            "Epoch 7/10\n",
            "31/31 - 10s - loss: 0.3278 - accuracy: 0.8740\n",
            "Epoch 8/10\n",
            "31/31 - 10s - loss: 0.2609 - accuracy: 0.9248\n",
            "Epoch 9/10\n",
            "31/31 - 10s - loss: 0.2256 - accuracy: 0.9431\n",
            "Epoch 10/10\n",
            "31/31 - 10s - loss: 0.1966 - accuracy: 0.9370\n"
          ],
          "name": "stdout"
        },
        {
          "output_type": "execute_result",
          "data": {
            "text/plain": [
              "<tensorflow.python.keras.callbacks.History at 0x7f1c4eb70f28>"
            ]
          },
          "metadata": {
            "tags": []
          },
          "execution_count": 123
        }
      ]
    },
    {
      "cell_type": "code",
      "metadata": {
        "colab_type": "code",
        "id": "WwizjxkFgUJh",
        "colab": {
          "base_uri": "https://localhost:8080/",
          "height": 87
        },
        "outputId": "645f0904-093a-4734-817d-f0e53c87d8f4"
      },
      "source": [
        "accr = model.evaluate(X_test,Y_test)\n",
        "print('Test set\\n  Loss: {:0.3f}\\n  Accuracy: {:0.3f}'.format(accr[0],accr[1]))"
      ],
      "execution_count": 124,
      "outputs": [
        {
          "output_type": "stream",
          "text": [
            "4/4 [==============================] - 0s 39ms/step - loss: 0.4531 - accuracy: 0.8871\n",
            "Test set\n",
            "  Loss: 0.453\n",
            "  Accuracy: 0.887\n"
          ],
          "name": "stdout"
        }
      ]
    },
    {
      "cell_type": "code",
      "metadata": {
        "id": "ZitY4yfAoh1_",
        "colab_type": "code",
        "colab": {}
      },
      "source": [
        "alcohol_msg=[\"Drunkenness is nothing but voluntary madness.\",\"Drink because you are happy, but never because you are miserable.\",\n",
        "            \"Talking to a drunk person was like talking to an extremely happy, severely brain-damaged three-year-old STOP IT TODAY!\",\n",
        "            \"First you take a drink, then the drink takes a drink, then the drink takes you.\",\"As an alcoholic, you will violate your standards quicker than you can lower them.\"]\n",
        "\n",
        "depression_msg=[\"There is hope, even when your brain tells you there isn’t\",\"Sometimes, life will kick you around, but sooner or later, you realize you’re not just a survivor. You’re a warrior, and you’re stronger than anything life throws your way.\",\n",
        "               \"On particularly rough days when I’m sure I can’t possibly endure, I like to remind myself that my track record for getting through bad days so far is 100%, and that’s pretty good, YOU CAN DO THIS TOO !\",\n",
        "               \"Sometimes you climb out of bed in the morning and you think, I’m not going to make it, but you laugh inside – \\n remembering all the times you’ve felt that way.\",\"Give yourself another day, another chance. You will find your courage eventually. Don’t give up on yourself just yet\",\n",
        "               ]\n",
        "Drugs_msg=[\"When everything seems like an uphill struggle, just think of the view from the top.\",\"If you can quit for a day, you can quit for a lifetime.\",\n",
        "          \"Recovery is hard. Regret is harder.\",\"You can’t defeat the darkness by keeping it caged inside of you\",\"When you use drugs for a long time, it can cause changes in other brain chemical systems and circuits as well, STOP IT NOW !\"]\n",
        "\n",
        "suicidal_msg=[\"Soak up the views. Take in the bad weather and the good weather. You are not the storm.\",\"Suicide doesn’t end the chances of life getting worse, it eliminates the possibility of it ever getting any better\",\n",
        "             \"Never, never, never give up!\",\"If you’re looking for a sign not to kill yourself, this is it.\",\"The person who completes suicide, dies once. Those left behind die a thousand deaths, trying to relive those terrible moments and understand… why?\",\n",
        "             \"Place your hand over your heart, can you feel it? That is called purpose. You’re alive for a reason so don’t ever give up.\"]"
      ],
      "execution_count": 125,
      "outputs": []
    },
    {
      "cell_type": "code",
      "metadata": {
        "id": "BWUhArKrq2jS",
        "colab_type": "code",
        "colab": {}
      },
      "source": [
        ""
      ],
      "execution_count": 125,
      "outputs": []
    },
    {
      "cell_type": "code",
      "metadata": {
        "id": "Mg5qUEtPrN9U",
        "colab_type": "code",
        "colab": {
          "base_uri": "https://localhost:8080/",
          "height": 70
        },
        "outputId": "526f2edc-f4de-42e4-bce6-069cac09fd54"
      },
      "source": [
        "import random\n",
        "test_data=pd.read_csv('/content/sample_data/TestBSNLP.csv')\n",
        "test_data=test_data.drop(columns='ID',axis=1)\n",
        "\n",
        "text = random.choice(test_data['text'])\n",
        "print(text)\n",
        "#vectorizing the tweet by the pre-fitted tokenizer instance\n",
        "text = tok.texts_to_sequences(text)\n",
        "#padding the tweet to have exactly the same shape as `embedding_2` input\n",
        "text = pad_sequences(text, maxlen=200, dtype='int32', value=0)\n",
        "sentiment = model.predict(text,batch_size=1,verbose = 2)[0]\n",
        "print(sentiment)"
      ],
      "execution_count": 126,
      "outputs": [
        {
          "output_type": "stream",
          "text": [
            "how to stay away from alcohol\n",
            "29/29 - 1s\n",
            "[0.17904222 0.3994268  0.12856622 0.29296476]\n"
          ],
          "name": "stdout"
        }
      ]
    },
    {
      "cell_type": "code",
      "metadata": {
        "id": "HXBR7hIi1z6k",
        "colab_type": "code",
        "colab": {
          "base_uri": "https://localhost:8080/",
          "height": 72
        },
        "outputId": "44ff8a48-72c3-450d-d783-09dc8167706e"
      },
      "source": [
        "list=[]\n",
        "for i in sentiment:\n",
        "    list.append(i)\n",
        "m=max(list)\n",
        "index=list.index(m)\n",
        "if index==0:\n",
        "    print('Alcohol')\n",
        "    print(random.choice(alcohol_msg))\n",
        "elif index==1:\n",
        "    print('Depression')\n",
        "    print(random.choice(depression_msg))\n",
        "elif index==2:\n",
        "    print('Drugs')\n",
        "    print(random.choice(Drugs_msg))\n",
        "elif index==3:\n",
        "    print('Suicide')   \n",
        "    print(random.choice(suicidal_msg))\n",
        "\n"
      ],
      "execution_count": 127,
      "outputs": [
        {
          "output_type": "stream",
          "text": [
            "Depression\n",
            "Sometimes, life will kick you around, but sooner or later, you realize you’re not just a survivor. You’re a warrior, and you’re stronger than anything life throws your way.\n"
          ],
          "name": "stdout"
        }
      ]
    },
    {
      "cell_type": "code",
      "metadata": {
        "colab_type": "code",
        "id": "NIIwTLvDVsrd",
        "colab": {}
      },
      "source": [
        ""
      ],
      "execution_count": 127,
      "outputs": []
    },
    {
      "cell_type": "code",
      "metadata": {
        "colab_type": "code",
        "id": "Jp4B4h0RVtH_",
        "colab": {}
      },
      "source": [
        ""
      ],
      "execution_count": 127,
      "outputs": []
    },
    {
      "cell_type": "code",
      "metadata": {
        "colab_type": "code",
        "id": "MpNUsWhyVtrc",
        "colab": {}
      },
      "source": [
        ""
      ],
      "execution_count": 127,
      "outputs": []
    }
  ]
}